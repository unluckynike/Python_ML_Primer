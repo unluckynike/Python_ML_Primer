{
 "cells": [
  {
   "cell_type": "markdown",
   "id": "b7d1c020",
   "metadata": {},
   "source": [
    "#### 决策树Titanic生存预测"
   ]
  },
  {
   "cell_type": "code",
   "execution_count": null,
   "id": "d294c4dc",
   "metadata": {},
   "outputs": [],
   "source": [
    "import pandas as pd"
   ]
  },
  {
   "cell_type": "code",
   "execution_count": null,
   "id": "f2e46e1a",
   "metadata": {},
   "outputs": [],
   "source": [
    "# 从网站上读取\n",
    "# path=\"http://biostat.mc.vanderbilt.edu/wiki/pub/Main/DataSets/titanic.txt\"\n",
    "# titanic=pd.read_csv(path)"
   ]
  },
  {
   "cell_type": "code",
   "execution_count": null,
   "id": "95a0230c",
   "metadata": {},
   "outputs": [],
   "source": [
    "titanic=pd.read_csv(\"./titanic.csv\")"
   ]
  },
  {
   "cell_type": "code",
   "execution_count": null,
   "id": "49ebb87a",
   "metadata": {},
   "outputs": [],
   "source": [
    "titanic"
   ]
  },
  {
   "cell_type": "code",
   "execution_count": null,
   "id": "6dc13845",
   "metadata": {},
   "outputs": [],
   "source": [
    "# 筛选特征值和目标值\n",
    "x=titanic[[\"pclass\",\"age\",\"sex\"]] # 两个括弧\n",
    "y=titanic[\"survived\"]"
   ]
  },
  {
   "cell_type": "code",
   "execution_count": null,
   "id": "566b02a0",
   "metadata": {},
   "outputs": [],
   "source": [
    "x.head()"
   ]
  },
  {
   "cell_type": "code",
   "execution_count": null,
   "id": "20952425",
   "metadata": {},
   "outputs": [],
   "source": [
    "y.head()"
   ]
  },
  {
   "cell_type": "code",
   "execution_count": null,
   "id": "e68019b0",
   "metadata": {},
   "outputs": [],
   "source": [
    "# 缺失值处理\n",
    "x[\"age\"].fillna(x[\"age\"].mean(),inplace=True) # 以年龄的平均值填补缺失值"
   ]
  },
  {
   "cell_type": "code",
   "execution_count": null,
   "id": "fc850963",
   "metadata": {},
   "outputs": [],
   "source": [
    "# 转换成字典\n",
    "x=x.to_dict(orient=\"records\") # 转换格式 一般填records"
   ]
  },
  {
   "cell_type": "code",
   "execution_count": null,
   "id": "e786e796",
   "metadata": {},
   "outputs": [],
   "source": [
    "x"
   ]
  },
  {
   "cell_type": "code",
   "execution_count": null,
   "id": "1b95ac7c",
   "metadata": {},
   "outputs": [],
   "source": [
    "from sklearn.model_selection import train_test_split"
   ]
  },
  {
   "cell_type": "code",
   "execution_count": null,
   "id": "d27d1da6",
   "metadata": {},
   "outputs": [],
   "source": [
    "x_train,x_test,y_train,y_test=train_test_split(x,y,random_state=8)"
   ]
  },
  {
   "cell_type": "code",
   "execution_count": null,
   "id": "30b9d261",
   "metadata": {},
   "outputs": [],
   "source": [
    "# 字典特征抽取\n",
    "from sklearn.feature_extraction import DictVectorizer\n",
    "from sklearn.tree import DecisionTreeClassifier,export_graphviz"
   ]
  },
  {
   "cell_type": "code",
   "execution_count": null,
   "id": "d6403acf",
   "metadata": {},
   "outputs": [],
   "source": [
    "transfer=DictVectorizer()\n",
    "x_train=transfer.fit_transform(x_train)\n",
    "x_test=transfer.transform(x_test)"
   ]
  },
  {
   "cell_type": "code",
   "execution_count": null,
   "id": "91413619",
   "metadata": {},
   "outputs": [],
   "source": [
    "estimator=DecisionTreeClassifier(criterion=\"entropy\",max_depth=8)\n",
    "estimator.fit(x_train,y_train)\n",
    "\n",
    "y_predict=estimator.predict(x_test)\n",
    "print(\"y_predict:\\n\",y_predict)\n",
    "print(\"y_test:\\n\",y_test)\n",
    "print(\"直接对比真实值与预测值：\\n\",y_predict==y_test)\n",
    "\n",
    "socre=estimator.score(x_test,y_test)\n",
    "print(\"准确率：\\n\",socre)\n",
    "\n",
    "export_graphviz(estimator,out_file=\"titanic_tree.dot\",feature_names=transfer.get_feature_names())"
   ]
  },
  {
   "cell_type": "markdown",
   "id": "43803827",
   "metadata": {},
   "source": [
    "#### 随机森林Titanic生存预测"
   ]
  },
  {
   "cell_type": "code",
   "execution_count": null,
   "id": "53bcd211",
   "metadata": {},
   "outputs": [],
   "source": [
    "from sklearn.ensemble import RandomForestClassifier # 随机森林\n",
    "from sklearn.model_selection import GridSearchCV # 可调参才难网格搜索"
   ]
  },
  {
   "cell_type": "code",
   "execution_count": null,
   "id": "d9e5042b",
   "metadata": {},
   "outputs": [],
   "source": [
    "estimator=RandomForestClassifier()\n",
    "# 参数准备\n",
    "param_dict={\"n_estimators\":[120,200,300,500,800,1200],\"max_depth\":[5,8,15,25,30]}\n",
    "estimator=GridSearchCV(estimator,param_grid=param_dict,cv=3)\n",
    "estimator.fit(x_train,y_train)\n",
    "\n",
    "y_predict=estimator.predict(x_test)\n",
    "print(\"y_predict:\\n\",y_predict)\n",
    "print(\"y_test:\\n\",y_test)\n",
    "print(\"直接对比真实值与预测值：\\n\",y_predict==y_test)\n",
    "\n",
    "socre=estimator.score(x_test,y_test)\n",
    "print(\"准确率：\\n\",socre)\n",
    "\n",
    "print(\"最佳参数：\\n\",estimator.best_params_)\n",
    "print(\"最佳结果：\\n\",estimator.best_score_)\n",
    "print(\"最佳估计器:\\n\",estimator.best_estimator_)\n",
    "# print(\"交叉验证结果：\\n\",estimator.cv_results_)"
   ]
  },
  {
   "cell_type": "code",
   "execution_count": null,
   "id": "cd9d2cd9",
   "metadata": {},
   "outputs": [],
   "source": []
  }
 ],
 "metadata": {
  "kernelspec": {
   "display_name": "Python 3 (ipykernel)",
   "language": "python",
   "name": "python3"
  },
  "language_info": {
   "codemirror_mode": {
    "name": "ipython",
    "version": 3
   },
   "file_extension": ".py",
   "mimetype": "text/x-python",
   "name": "python",
   "nbconvert_exporter": "python",
   "pygments_lexer": "ipython3",
   "version": "3.8.13"
  }
 },
 "nbformat": 4,
 "nbformat_minor": 5
}
